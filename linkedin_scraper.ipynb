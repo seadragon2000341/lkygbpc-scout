{
 "cells": [
  {
   "attachments": {},
   "cell_type": "markdown",
   "metadata": {},
   "source": [
    "# Linkedin Scraper"
   ]
  },
  {
   "cell_type": "code",
   "execution_count": 37,
   "metadata": {},
   "outputs": [],
   "source": [
    "import pandas as pd\n",
    "import numpy as np\n",
    "import re\n",
    "import time\n",
    "import logging\n",
    "from tqdm import tqdm\n",
    "from decouple import config\n",
    "\n",
    "from selenium import webdriver\n",
    "from selenium.webdriver.common.by import By\n",
    "from selenium.webdriver.support.ui import WebDriverWait\n",
    "from selenium.webdriver.support import expected_conditions as EC\n",
    "from selenium.common.exceptions import TimeoutException,NoSuchElementException\n",
    "\n",
    "from bs4 import BeautifulSoup"
   ]
  },
  {
   "cell_type": "code",
   "execution_count": null,
   "metadata": {},
   "outputs": [],
   "source": [
    "# Environment variables\n",
    "EMAIL = config(\"EMAIL\")\n",
    "PASSWORD = config(\"PASSWORD\")"
   ]
  },
  {
   "cell_type": "code",
   "execution_count": 52,
   "metadata": {},
   "outputs": [],
   "source": [
    "def education_check(link,wd):\n",
    "    wd.get(link)\n",
    "    if wd.current_url!=\"https://www.linkedin.com/404/\":\n",
    "        time.sleep(2)\n",
    "        wd.execute_script(\"window.scrollTo(0, document.body.scrollHeight);\")\n",
    "        try:\n",
    "            education_node = WebDriverWait(wd,8).until(EC.presence_of_element_located((By.ID,'education')))\n",
    "            wd.execute_script(\"arguments[0].scrollIntoView();\", education_node)\n",
    "            education_parent_node = education_node.find_element(By.XPATH,'..')\n",
    "            education_history = education_parent_node.find_elements(By.CLASS_NAME,\"artdeco-list__item.pvs-list__item--line-separated.pvs-list__item--one-column\")\n",
    "            education_list = []\n",
    "            for i in education_history:\n",
    "                components = i.find_element(By.CLASS_NAME,\"display-flex.flex-row.justify-space-between\").find_element(By.XPATH,\"./*\").find_elements(By.XPATH,\"./*\")\n",
    "                components = [c.find_element(By.XPATH,\"./*\").text for c in components]\n",
    "                components = [c.split(\"\\n\")[0] if \"\\n\" in c else c for c in components]\n",
    "                for c in components:\n",
    "                    nums = re.findall(r\"\\d+\", c)\n",
    "                    if nums and any(y > 2019 for y in [int(n) for n in nums]):\n",
    "                        education_list.append(tuple(components))\n",
    "            if education_list:\n",
    "                return education_list\n",
    "            else:\n",
    "                return None\n",
    "        except (TimeoutException, NoSuchElementException) as e:\n",
    "            logging.warning(f\"Could not find element in {link}\")\n",
    "            return \"element error\"\n",
    "    else:\n",
    "        logging.error(f\"Error 404 occurred on {link}\")\n",
    "        return \"page error\"\n",
    "    \n",
    "def link_matcher(list_of_founders):\n",
    "    \"\"\"\n",
    "    Input should be a list of tuples of founders' details\n",
    "    \"\"\"\n",
    "    linkedin_list = []\n",
    "    for f in list_of_founders:\n",
    "        result = re.findall(r\"(?<=\\s|,)[^\\s]+linkedin[^\\s,]+\",f)\n",
    "        if result:\n",
    "            linkedin_list.append(result[0])\n",
    "    if linkedin_list:\n",
    "        return linkedin_list"
   ]
  },
  {
   "cell_type": "code",
   "execution_count": 3,
   "metadata": {},
   "outputs": [],
   "source": [
    "data = pd.read_excel(\"/Users/nathaniel/lkygbpc_scout/esd_found.xlsx\")\n",
    "\n",
    "data[\"new_founders\"] = data[\"new_founders\"].apply(lambda x: x if not isinstance(x,str) else x.split(\"_x000D_\"))\n",
    "founders_list = data[\"new_founders\"].dropna()\n",
    "    \n",
    "founders_linkedin = founders_list.apply(link_matcher).dropna()"
   ]
  },
  {
   "cell_type": "code",
   "execution_count": 55,
   "metadata": {},
   "outputs": [],
   "source": [
    "PATH = \"/Users/nathaniel/chromedriver\" \n",
    "\n",
    "driver = webdriver.Chrome(PATH) \n",
    "\n",
    "driver.get(\"https://www.linkedin.com\")\n",
    "\n",
    "username = driver.find_element(By.CLASS_NAME,'input__input')\n",
    "\n",
    "username.send_keys(EMAIL)\n",
    "\n",
    "password = driver.find_element(By.ID,'session_password')\n",
    "\n",
    "password.send_keys(PASSWORD)\n",
    "\n",
    "log_in_button = driver.find_element(By.CLASS_NAME,'sign-in-form__submit-button') \n",
    "\n",
    "log_in_button.click()"
   ]
  },
  {
   "cell_type": "code",
   "execution_count": 56,
   "metadata": {},
   "outputs": [
    {
     "name": "stderr",
     "output_type": "stream",
     "text": [
      "4it [00:45, 10.87s/it]WARNING:root:Could not find element in https://www.linkedin.com/in/alain-aun\n",
      "8it [01:44, 13.27s/it]WARNING:root:Could not find element in https://www.linkedin.com/in/slava-kalichonak-b446a51a1\n",
      "10it [02:10, 12.51s/it]ERROR:root:Error 404 occurred on https://www.linkedin.com/in/argorannamets\n",
      "ERROR:root:Error 404 occurred on https://www.linkedin.com/in/rainvaana/\n",
      "11it [02:16, 10.62s/it]ERROR:root:Error 404 occurred on https://www.linkedin.com/in/andrey-vavilin-8228ab7/\n",
      "WARNING:root:Could not find element in https://www.linkedin.com/in/ilyandr11\n",
      "12it [02:33, 12.52s/it]WARNING:root:Could not find element in https://www.linkedin.com/in/joonatan-samuel/\n",
      "28it [05:22,  8.71s/it]WARNING:root:Could not find element in https://www.linkedin.com/in/erikbhullar/\n",
      "29it [05:41, 11.83s/it]ERROR:root:Error 404 occurred on https://www.linkedin.com/in/aleksey-korolyov\n",
      "37it [06:30,  6.55s/it]WARNING:root:Could not find element in https://www.linkedin.com/in/igor-murujev-91412075\n",
      "43it [07:35,  8.12s/it]WARNING:root:Could not find element in https://www.linkedin.com/in/kevinmurcko/\n",
      "50it [08:46,  8.82s/it]WARNING:root:Could not find element in https://www.linkedin.com/in/alex-fridman-71934611\n",
      "51it [09:05, 11.93s/it]WARNING:root:Could not find element in https://www.linkedin.com/in/erkikoldits/\n",
      "56it [09:59,  9.31s/it]ERROR:root:Error 404 occurred on https://www.linkedin.com/in/remigiuszkoscielny\n",
      "57it [10:08,  9.08s/it]WARNING:root:Could not find element in https://www.linkedin.com/in/clemenswangerin\n",
      "63it [11:22,  9.63s/it]WARNING:root:Could not find element in https://www.linkedin.com/in/kiran-rai-75b3921b7\n",
      "65it [11:58, 13.88s/it]WARNING:root:Could not find element in https://www.linkedin.com/in/anton-morus-060492153/\n",
      "70it [12:41,  7.96s/it]ERROR:root:Error 404 occurred on https://www.linkedin.com/in/baldfuturist/\n",
      "74it [13:35, 10.13s/it]WARNING:root:Could not find element in https://www.linkedin.com/in/giordano-lugo\n",
      "84it [14:58,  7.54s/it]ERROR:root:Error 404 occurred on https://www.linkedin.com/in/ericyangthegreatest/\n",
      "86it [15:12,  7.79s/it]ERROR:root:Error 404 occurred on https://www.linkedin.com/in/donguo/\n",
      "88it [15:34,  8.81s/it]WARNING:root:Could not find element in https://www.linkedin.com/in/krishnagupta/\n",
      "101it [17:43,  9.34s/it]ERROR:root:Error 404 occurred on https://www.linkedin.com/in/zainallarakhia\n",
      "105it [18:15,  7.58s/it]WARNING:root:Could not find element in https://www.linkedin.com/in/jan-nowikow-1a09b3123/\n",
      "107it [18:35,  8.34s/it]WARNING:root:Could not find element in https://www.linkedin.com/in/anees-iqbal/\n",
      "118it [20:08,  6.71s/it]WARNING:root:Could not find element in https://www.linkedin.com/in/salehy\n",
      "ERROR:root:Error 404 occurred on https://www.linkedin.com/in/taavi-rannamets-95367986\n",
      "119it [20:32, 11.85s/it]WARNING:root:Could not find element in https://www.linkedin.com/in/jamie-beuthin-a5040a33/\n",
      "120it [20:51, 14.18s/it]WARNING:root:Could not find element in https://www.linkedin.com/in/antonzorin/\n",
      "122it [21:11, 11.63s/it]ERROR:root:Error 404 occurred on https://www.linkedin.com/in/alexander-aleksashev-57b70351/\n",
      "125it [21:31,  8.20s/it]WARNING:root:Could not find element in https://www.linkedin.com/in/%D0%B3%D0%BE%D1%80%D0%B8%D0%BD-%D0%B8%D0%B3%D0%BE%D1%80%D1%8C-31019526/\n",
      "130it [22:08,  6.59s/it]WARNING:root:Could not find element in https://www.linkedin.com/in/aleksei-labotkin-324408aa/\n",
      "136it [23:36, 13.55s/it]ERROR:root:Error 404 occurred on https://ng.linkedin.com/in/caesario-de-medeiros-490a6815\n",
      "149it [25:20,  5.79s/it]ERROR:root:Error 404 occurred on https://www.linkedin.com/in/kutluhanhakan/\n",
      "151it [25:29,  5.37s/it]WARNING:root:Could not find element in http://www.linkedin.com/pub/george-ilie/24/883/418\n",
      "152it [25:43,  7.75s/it]ERROR:root:Error 404 occurred on https://www.linkedin.com/in/sarkiskazndjian\n",
      "155it [26:13,  8.62s/it]WARNING:root:Could not find element in https://www.linkedin.com/in/neeme-org-24491b8/\n",
      "172it [28:23,  6.82s/it]WARNING:root:Could not find element in https://www.linkedin.com/in/fredrik-colting-147925121\n",
      "181it [29:23,  5.52s/it]WARNING:root:Could not find element in http://www.linkedin.com/in/rainerdechet\n",
      "185it [30:02,  9.36s/it]WARNING:root:Could not find element in https://www.linkedin.com/in/belyaevalex\n",
      "WARNING:root:Could not find element in https://www.linkedin.com/in/vlad-duplyakin-923475116\n",
      "191it [31:05,  8.81s/it]WARNING:root:Could not find element in https://www.linkedin.com/in/stephanierobesky\n",
      "193it [31:24,  8.61s/it]WARNING:root:Could not find element in https://www.linkedin.com/in/alexey-meretskiy/\n",
      "204it [33:05,  8.90s/it]WARNING:root:Could not find element in https://www.linkedin.com/in/sjgreenbaum\n",
      "209it [34:02,  9.77s/it]\n"
     ]
    }
   ],
   "source": [
    "results = {}\n",
    "\n",
    "for n,items in tqdm(founders_linkedin.items()):\n",
    "    link_list = []\n",
    "    if items:\n",
    "        for link in items:\n",
    "            time.sleep(2)\n",
    "            education_results = education_check(link,driver)\n",
    "            if isinstance(education_results,list):\n",
    "                results[n] = (link,education_results)\n",
    "                break\n",
    "            elif education_results==\"element error\":\n",
    "                link_list.append((link,\"Check again\"))\n",
    "            elif education_results==\"page error\":\n",
    "                link_list.append((link,\"Error 404\"))\n",
    "            else:\n",
    "                link_list.append((link,\"Not eligible\"))\n",
    "            if not all(x[1]==\"Not eligible\" for x in link_list):\n",
    "                results[n] = link_list\n",
    "            else:\n",
    "                results[n] = \"Not eligible\""
   ]
  },
  {
   "cell_type": "code",
   "execution_count": 112,
   "metadata": {},
   "outputs": [],
   "source": [
    "formatted = {}\n",
    "\n",
    "for k,v in results.items():\n",
    "    if isinstance(v,list):\n",
    "        checklist = []\n",
    "        for item in v:\n",
    "            if item[1] in (\"Check again\",\"Error 404\"):\n",
    "                checklist.append(item)\n",
    "        checklist = [\", \".join(a) for a in checklist]\n",
    "        result_str = \"\\n\".join(checklist)\n",
    "        formatted[k] = result_str\n",
    "    elif isinstance(v,tuple):\n",
    "        link = v[0]\n",
    "        history = v[1]\n",
    "        history = [str(a) for a in history]\n",
    "        history_str = \"\\n\".join(history)\n",
    "        result_str = \",\\n\".join([link,history_str])\n",
    "        formatted[k] = result_str\n",
    "    else:\n",
    "        formatted[k] = v\n",
    "        \n",
    "final = pd.merge(data,pd.Series(formatted,name=\"checked\").to_frame(),how='inner',left_index=True,right_index=True)"
   ]
  },
  {
   "cell_type": "code",
   "execution_count": 114,
   "metadata": {},
   "outputs": [],
   "source": [
    "final.to_excel(\"esd_final_checked.xlsx\",index=False)"
   ]
  },
  {
   "cell_type": "code",
   "execution_count": 60,
   "metadata": {},
   "outputs": [],
   "source": [
    "final = pd.merge(data,pd.Series(results,name=\"checked\").to_frame(),how='inner',left_index=True,right_index=True)"
   ]
  },
  {
   "attachments": {},
   "cell_type": "markdown",
   "metadata": {},
   "source": [
    "# European Space Agency Scraper"
   ]
  },
  {
   "cell_type": "code",
   "execution_count": 12,
   "metadata": {},
   "outputs": [
    {
     "name": "stderr",
     "output_type": "stream",
     "text": [
      "/Users/nathaniel/opt/anaconda3/envs/ds-general/lib/python3.9/site-packages/urllib3/connectionpool.py:1045: InsecureRequestWarning: Unverified HTTPS request is being made to host 'commercialisation.esa.int'. Adding certificate verification is strongly advised. See: https://urllib3.readthedocs.io/en/1.26.x/advanced-usage.html#ssl-warnings\n",
      "  warnings.warn(\n"
     ]
    }
   ],
   "source": [
    "from bs4 import BeautifulSoup\n",
    "import requests\n",
    "import pandas as pd\n",
    "import re\n",
    "import warnings\n",
    "\n",
    "url = \"https://commercialisation.esa.int/startups/\"\n",
    "response = requests.get(url, verify=False)\n",
    "soup = BeautifulSoup(response.content,\"html.parser\")"
   ]
  },
  {
   "cell_type": "code",
   "execution_count": 174,
   "metadata": {},
   "outputs": [
    {
     "name": "stdout",
     "output_type": "stream",
     "text": [
      "1016\n"
     ]
    }
   ],
   "source": [
    "results = soup.find(\"div\",id=\"startup-results\").findChildren(recursive=False)\n",
    "print(len(results))\n",
    "\n",
    "cols = [\"title\",\"country\",\"bic\",\"space_domains\",\"industries\",\"start_date\",\"end_date\",\"content\",\"ext\"]\n",
    "\n",
    "startup_dict = {k: [] for k in cols}\n",
    "\n",
    "for n,startup in enumerate(results):\n",
    "    for col in cols:\n",
    "        if col == \"ext\":\n",
    "            ext = startup.find_all(\"a\",href=True)[0][\"href\"]\n",
    "            startup_dict[col].append(ext)\n",
    "        else:\n",
    "            attr = startup.find_all(\"div\", id=lambda x: x and x.startswith(f\"{col}-\"))\n",
    "            if len(attr)==0:\n",
    "                startup_dict[col].append(\"\")\n",
    "            else:\n",
    "                startup_dict[col].append(attr[0].text.strip())\n",
    "\n",
    "df = pd.DataFrame(startup_dict)\n",
    "        "
   ]
  },
  {
   "cell_type": "code",
   "execution_count": 175,
   "metadata": {},
   "outputs": [],
   "source": [
    "for col in [\"country\",\"bic\",\"space_domains\",\"industries\",\"start_date\",\"end_date\"]:\n",
    "    df[col] = df[col].apply(lambda x: re.sub(r\".+:\\s\",\"\",x))\n",
    "    \n",
    "df['bic'] = df['bic'].apply(lambda x: x.replace(\"ESA BIC\",\"\"))"
   ]
  },
  {
   "cell_type": "code",
   "execution_count": 185,
   "metadata": {},
   "outputs": [],
   "source": [
    "after2018_df = df.query(\"start_date >= '2018'\")"
   ]
  },
  {
   "cell_type": "code",
   "execution_count": 187,
   "metadata": {},
   "outputs": [],
   "source": [
    "after2018_df.to_clipboard()"
   ]
  }
 ],
 "metadata": {
  "kernelspec": {
   "display_name": "ds-general",
   "language": "python",
   "name": "python3"
  },
  "language_info": {
   "codemirror_mode": {
    "name": "ipython",
    "version": 3
   },
   "file_extension": ".py",
   "mimetype": "text/x-python",
   "name": "python",
   "nbconvert_exporter": "python",
   "pygments_lexer": "ipython3",
   "version": "3.9.15"
  },
  "orig_nbformat": 4,
  "vscode": {
   "interpreter": {
    "hash": "ed6c43b43e1755b84ae54106533c57d1ef7c781210f6a7e9779ae5b0e4e13b1b"
   }
  }
 },
 "nbformat": 4,
 "nbformat_minor": 2
}
