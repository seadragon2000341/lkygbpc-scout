{
 "cells": [
  {
   "attachments": {},
   "cell_type": "markdown",
   "metadata": {},
   "source": [
    "# LinkedIn Scraper"
   ]
  },
  {
   "cell_type": "code",
   "execution_count": null,
   "metadata": {},
   "outputs": [],
   "source": [
    "import pandas as pd\n",
    "import numpy as np\n",
    "import re\n",
    "import time\n",
    "import logging\n",
    "from tqdm import tqdm\n",
    "from decouple import config\n",
    "\n",
    "from selenium import webdriver\n",
    "from selenium.webdriver.common.by import By\n",
    "from selenium.webdriver.support.ui import WebDriverWait\n",
    "from selenium.webdriver.support import expected_conditions as EC\n",
    "from selenium.common.exceptions import TimeoutException,NoSuchElementException\n",
    "\n",
    "from bs4 import BeautifulSoup"
   ]
  },
  {
   "cell_type": "code",
   "execution_count": null,
   "metadata": {},
   "outputs": [],
   "source": [
    "# Environment variables\n",
    "EMAIL = config(\"EMAIL\")\n",
    "PASSWORD = config(\"PASSWORD\")\n",
    "PATH = config(\"WEBDRIVER_PATH\")"
   ]
  },
  {
   "cell_type": "code",
   "execution_count": null,
   "metadata": {},
   "outputs": [],
   "source": [
    "# Change the filepath below to the name of your output pickle file from the Crunchbase notebook\n",
    "# e.g. if your output file is called estonia_found.pkl, simply key in estonia\n",
    "\n",
    "filepath = \"test\""
   ]
  },
  {
   "cell_type": "code",
   "execution_count": null,
   "metadata": {},
   "outputs": [],
   "source": [
    "# Data\n",
    "\n",
    "data = pd.read_pickle(f\"{filepath}_found.pkl\")\n",
    "\n",
    "def link_matcher(list_of_founders):\n",
    "    \"\"\"\n",
    "    Input should be a list of tuples of founders' details\n",
    "    \"\"\"\n",
    "    linkedin_list = []\n",
    "    for founder in list_of_founders:\n",
    "        for attr in founder:\n",
    "            if isinstance(attr,str) and \"linkedin\" in attr:\n",
    "                linkedin_list.append(attr)\n",
    "        # result = re.findall(r\"(?<=\\s|,)[^\\s]+linkedin[^\\s,]+\",f)\n",
    "        # if result:\n",
    "        #     linkedin_list.append(result[0])\n",
    "    if linkedin_list:\n",
    "        return linkedin_list\n",
    "\n",
    "founders_linkedin = data[\"founders\"].dropna().apply(link_matcher).dropna()"
   ]
  },
  {
   "cell_type": "code",
   "execution_count": null,
   "metadata": {},
   "outputs": [],
   "source": [
    "def education_check(link,wd):\n",
    "    wd.get(link)\n",
    "    if wd.current_url!=\"https://www.linkedin.com/404/\":\n",
    "        time.sleep(2)\n",
    "        wd.execute_script(\"window.scrollTo(0, document.body.scrollHeight);\")\n",
    "        try:\n",
    "            education_node = WebDriverWait(wd,8).until(EC.presence_of_element_located((By.ID,'education')))\n",
    "            wd.execute_script(\"arguments[0].scrollIntoView();\", education_node)\n",
    "            education_parent_node = education_node.find_element(By.XPATH,'..')\n",
    "            education_history = education_parent_node.find_elements(By.CLASS_NAME,\"artdeco-list__item.pvs-list__item--line-separated.pvs-list__item--one-column\")\n",
    "            education_list = []\n",
    "            for i in education_history:\n",
    "                components = i.find_element(By.CLASS_NAME,\"display-flex.flex-row.justify-space-between\").find_element(By.XPATH,\"./*\").find_elements(By.XPATH,\"./*\")\n",
    "                components = [c.find_element(By.XPATH,\"./*\").text for c in components]\n",
    "                components = [c.split(\"\\n\")[0] if \"\\n\" in c else c for c in components]\n",
    "                for c in components:\n",
    "                    nums = re.findall(r\"\\d+\", c)\n",
    "                    if nums and any(y > 2019 for y in [int(n) for n in nums]):\n",
    "                        education_list.append(tuple(components))\n",
    "            if education_list:\n",
    "                return education_list\n",
    "            else:\n",
    "                return None\n",
    "        except (TimeoutException, NoSuchElementException) as e:\n",
    "            logging.warning(f\"Could not find element in {link}\")\n",
    "            return \"element error\"\n",
    "    else:\n",
    "        logging.error(f\"Error 404 occurred on {link}\")\n",
    "        return \"page error\"\n",
    "    "
   ]
  },
  {
   "cell_type": "code",
   "execution_count": null,
   "metadata": {},
   "outputs": [],
   "source": [
    "driver = webdriver.Chrome(PATH) \n",
    "\n",
    "driver.get(\"https://www.linkedin.com\")\n",
    "\n",
    "username = driver.find_element(By.CLASS_NAME,'input__input')\n",
    "\n",
    "username.send_keys(EMAIL)\n",
    "\n",
    "password = driver.find_element(By.ID,'session_password')\n",
    "\n",
    "password.send_keys(PASSWORD)\n",
    "\n",
    "log_in_button = driver.find_element(By.CLASS_NAME,'sign-in-form__submit-button') \n",
    "\n",
    "log_in_button.click()"
   ]
  },
  {
   "cell_type": "code",
   "execution_count": null,
   "metadata": {},
   "outputs": [],
   "source": [
    "results = {}\n",
    "\n",
    "for n,items in tqdm(founders_linkedin.items()):\n",
    "    link_list = []\n",
    "    if items:\n",
    "        for link in items:\n",
    "            time.sleep(2)\n",
    "            education_results = education_check(link,driver)\n",
    "            if isinstance(education_results,list):\n",
    "                results[n] = (link,education_results)\n",
    "                break\n",
    "            elif education_results==\"element error\":\n",
    "                link_list.append((link,\"Check again\"))\n",
    "            elif education_results==\"page error\":\n",
    "                link_list.append((link,\"Error 404\"))\n",
    "            else:\n",
    "                link_list.append((link,\"Not eligible\"))\n",
    "            if not all(x[1]==\"Not eligible\" for x in link_list):\n",
    "                results[n] = link_list\n",
    "            else:\n",
    "                results[n] = \"Not eligible\""
   ]
  },
  {
   "cell_type": "code",
   "execution_count": null,
   "metadata": {},
   "outputs": [],
   "source": [
    "formatted = {}\n",
    "\n",
    "for k,v in results.items():\n",
    "    if isinstance(v,list):\n",
    "        checklist = []\n",
    "        for item in v:\n",
    "            if item[1] in (\"Check again\",\"Error 404\"):\n",
    "                checklist.append(item)\n",
    "        checklist = [\", \".join(a) for a in checklist]\n",
    "        result_str = \"\\n\".join(checklist)\n",
    "        formatted[k] = result_str\n",
    "    elif isinstance(v,tuple):\n",
    "        link = v[0]\n",
    "        history = v[1]\n",
    "        history = [str(a) for a in history]\n",
    "        history_str = \"\\n\".join(history)\n",
    "        result_str = \",\\n\".join([link,history_str])\n",
    "        formatted[k] = result_str\n",
    "    else:\n",
    "        formatted[k] = v\n",
    "        \n",
    "final = pd.merge(data,pd.Series(formatted,name=\"checked\").to_frame(),how='inner',left_index=True,right_index=True)"
   ]
  },
  {
   "cell_type": "code",
   "execution_count": null,
   "metadata": {},
   "outputs": [],
   "source": [
    "final.to_excel(f\"{filepath}_linkedin.xlsx\",index=False)"
   ]
  }
 ],
 "metadata": {
  "kernelspec": {
   "display_name": "ds-general",
   "language": "python",
   "name": "python3"
  },
  "language_info": {
   "codemirror_mode": {
    "name": "ipython",
    "version": 3
   },
   "file_extension": ".py",
   "mimetype": "text/x-python",
   "name": "python",
   "nbconvert_exporter": "python",
   "pygments_lexer": "ipython3",
   "version": "3.9.15"
  },
  "orig_nbformat": 4,
  "vscode": {
   "interpreter": {
    "hash": "ed6c43b43e1755b84ae54106533c57d1ef7c781210f6a7e9779ae5b0e4e13b1b"
   }
  }
 },
 "nbformat": 4,
 "nbformat_minor": 2
}
