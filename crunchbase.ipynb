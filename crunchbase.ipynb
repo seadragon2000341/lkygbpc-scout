{
 "cells": [
  {
   "cell_type": "code",
   "execution_count": 1,
   "metadata": {},
   "outputs": [],
   "source": [
    "import requests\n",
    "import pandas as pd\n",
    "import re\n",
    "from fuzzywuzzy import fuzz\n",
    "import string\n",
    "from tqdm import tqdm\n",
    "from IPython.display import clear_output\n",
    "\n",
    "from decouple import config"
   ]
  },
  {
   "attachments": {},
   "cell_type": "markdown",
   "metadata": {},
   "source": [
    "Phase 1\n",
    "1. Pass extracted list of names into autocomplete function\n",
    "2. From API return Crunchbase name, country, link, permalink, UUID\n",
    "3. Fuzzy match\n",
    "    a. Do ratio match. If >90, directly return, else go to b\n",
    "    b. Do token_set_ratio\n",
    "    b. If len(word)>1, remove last word and token_set_ratio again. Return if >90\n",
    "4. Manual review\n",
    "\n",
    "Phase 2\n",
    "- Using matched companies, pass UUID/permalink into entity lookup function\n",
    "- Return highest funding round, founders identifiers"
   ]
  },
  {
   "cell_type": "code",
   "execution_count": 2,
   "metadata": {},
   "outputs": [],
   "source": [
    "# Environment Variables\n",
    "CB_API_KEY = config(\"CB_API_KEY\")\n",
    "url = f\"https://api.crunchbase.com/api/v4/searches/organizations\""
   ]
  },
  {
   "cell_type": "code",
   "execution_count": 34,
   "metadata": {},
   "outputs": [],
   "source": []
  },
  {
   "cell_type": "code",
   "execution_count": 176,
   "metadata": {},
   "outputs": [],
   "source": [
    "raw = pd.read_csv(\"esd.csv\")"
   ]
  },
  {
   "cell_type": "code",
   "execution_count": 177,
   "metadata": {},
   "outputs": [],
   "source": [
    "base = \"https://api.crunchbase.com/api/v4\""
   ]
  },
  {
   "cell_type": "code",
   "execution_count": 179,
   "metadata": {},
   "outputs": [],
   "source": [
    "# Get a dictionary of Alpha-2 country code to country name since Crunchbase uses Alpha-2 code\n",
    "# e.g. {\"DE\": \"Germany\", \"SG\": \"Singapore\"}\n",
    "\n",
    "country_map = pd.read_html(\"https://www.iban.com/country-codes\")[0]\n",
    "country_map = country_map.iloc[:,:2]\n",
    "country_map.columns = ['country','code']\n",
    "country_map = country_map.set_index(\"code\").to_dict()['country']"
   ]
  },
  {
   "cell_type": "code",
   "execution_count": 180,
   "metadata": {},
   "outputs": [],
   "source": [
    "def namecheck(rowdata):\n",
    "    \"\"\"\n",
    "    This function performs a fuzzy match between the top results using the Crunchbase autocomplete function and the target startup name\n",
    "    (i.e. how similar the names are)\n",
    "    \n",
    "    If there is a match, return a tuple in the format (startup_name, startup_uuid, startup_description)\n",
    "    \n",
    "    If there are no similar matches, return a list of top results found in the same country as the target startup in the format\n",
    "    [(startup_1_name, startup_1_uuid, startup_1_description), (startup_2_name,...)]\n",
    "    \n",
    "\n",
    "    \"\"\"\n",
    "    name = rowdata[\"name\"]\n",
    "    action = \"/autocompletes\"\n",
    "    url = base+action\n",
    "    results = requests.get(url,headers={\"X-cb-user-key\":CB_API_KEY},params={\"collection_ids\":\"organizations\",\"query\":f\"{name}\",\"limit\":10}).json()\n",
    "    candidates = [(e['identifier']['value'],e['identifier']['uuid'],e['short_description'])for e in results['entities']]\n",
    "    for candidate in candidates:\n",
    "        if fuzz.token_set_ratio(candidate[0],name)>90:\n",
    "            return candidate\n",
    "        else:\n",
    "            # Remove punctuation\n",
    "            name = name.translate(str.maketrans(\" \",\" \",string.punctuation))\n",
    "            splitname = name.split()\n",
    "            if len(splitname)>1:\n",
    "                splitname = \" \".join(splitname[:-1])\n",
    "                if fuzz.token_set_ratio(candidate[0],splitname)>95:\n",
    "                    return candidate\n",
    "    \n",
    "    candidates_2 = []\n",
    "    \n",
    "    for candidate in candidates:\n",
    "        uuid = candidate[1]\n",
    "        action = f\"/entities/organizations/{uuid}\"\n",
    "        url = base+action\n",
    "        results = requests.get(url,headers={\"X-cb-user-key\":CB_API_KEY},params={\"card_ids\":[\"headquarters_address\"]}).json()['cards']['headquarters_address']\n",
    "        if len(results):\n",
    "            country = results[0]['country_code']\n",
    "            if country_map[country]==rowdata[\"country\"]:\n",
    "                candidates_2.append(candidate)\n",
    "        else:\n",
    "            candidates_2.append(candidate)\n",
    "    if len(candidates_2):\n",
    "        return candidates_2"
   ]
  },
  {
   "cell_type": "code",
   "execution_count": 182,
   "metadata": {},
   "outputs": [
    {
     "name": "stderr",
     "output_type": "stream",
     "text": [
      "100%|██████████| 615/615 [39:50<00:00,  3.89s/it]  \n"
     ]
    }
   ],
   "source": [
    "tqdm.pandas()\n",
    "\n",
    "raw['results'] = raw.progress_apply(namecheck,axis=1)"
   ]
  },
  {
   "cell_type": "code",
   "execution_count": 184,
   "metadata": {},
   "outputs": [
    {
     "data": {
      "text/plain": [
       "<class 'tuple'>       370\n",
       "<class 'NoneType'>    135\n",
       "<class 'list'>        110\n",
       "Name: results, dtype: int64"
      ]
     },
     "execution_count": 184,
     "metadata": {},
     "output_type": "execute_result"
    }
   ],
   "source": [
    "raw['results'].apply(type).value_counts()"
   ]
  },
  {
   "cell_type": "code",
   "execution_count": 186,
   "metadata": {},
   "outputs": [],
   "source": [
    "df = raw.copy()\n",
    "df['results'] = df['results'].apply(lambda x: None if isinstance(x,list) else x)"
   ]
  },
  {
   "cell_type": "code",
   "execution_count": 185,
   "metadata": {},
   "outputs": [
    {
     "name": "stderr",
     "output_type": "stream",
     "text": [
      "22it [03:00,  8.21s/it]\n"
     ]
    },
    {
     "ename": "KeyboardInterrupt",
     "evalue": "Interrupted by user",
     "output_type": "error",
     "traceback": [
      "\u001b[0;31m---------------------------------------------------------------------------\u001b[0m",
      "\u001b[0;31mKeyboardInterrupt\u001b[0m                         Traceback (most recent call last)",
      "\u001b[0;32m/var/folders/p_/scs49c6d5bz5kvl2jkkbnqzw0000gn/T/ipykernel_30395/1084131000.py\u001b[0m in \u001b[0;36m<module>\u001b[0;34m\u001b[0m\n\u001b[1;32m     13\u001b[0m         \u001b[0mprint\u001b[0m\u001b[0;34m(\u001b[0m\u001b[0;34mf\"{n}: \"\u001b[0m\u001b[0;34m+\u001b[0m\u001b[0mcandidate\u001b[0m\u001b[0;34m[\u001b[0m\u001b[0;36m0\u001b[0m\u001b[0;34m]\u001b[0m\u001b[0;34m+\u001b[0m\u001b[0;34m\":\\t\"\u001b[0m\u001b[0;34m+\u001b[0m\u001b[0mcandidate\u001b[0m\u001b[0;34m[\u001b[0m\u001b[0;36m2\u001b[0m\u001b[0;34m]\u001b[0m\u001b[0;34m)\u001b[0m\u001b[0;34m\u001b[0m\u001b[0;34m\u001b[0m\u001b[0m\n\u001b[1;32m     14\u001b[0m     \u001b[0mclear_output\u001b[0m\u001b[0;34m(\u001b[0m\u001b[0mwait\u001b[0m\u001b[0;34m=\u001b[0m\u001b[0;32mTrue\u001b[0m\u001b[0;34m)\u001b[0m\u001b[0;34m\u001b[0m\u001b[0;34m\u001b[0m\u001b[0m\n\u001b[0;32m---> 15\u001b[0;31m     \u001b[0mcorrect\u001b[0m \u001b[0;34m=\u001b[0m \u001b[0minput\u001b[0m\u001b[0;34m(\u001b[0m\u001b[0;34m\"Which one is it?\"\u001b[0m\u001b[0;34m)\u001b[0m\u001b[0;34m\u001b[0m\u001b[0;34m\u001b[0m\u001b[0m\n\u001b[0m\u001b[1;32m     16\u001b[0m     \u001b[0;32mif\u001b[0m \u001b[0mcorrect\u001b[0m\u001b[0;34m==\u001b[0m\u001b[0;34m\"\"\u001b[0m\u001b[0;34m:\u001b[0m\u001b[0;34m\u001b[0m\u001b[0;34m\u001b[0m\u001b[0m\n\u001b[1;32m     17\u001b[0m         \u001b[0mdf\u001b[0m\u001b[0;34m.\u001b[0m\u001b[0mat\u001b[0m\u001b[0;34m[\u001b[0m\u001b[0mr\u001b[0m\u001b[0;34m,\u001b[0m\u001b[0;34m'results'\u001b[0m\u001b[0;34m]\u001b[0m \u001b[0;34m=\u001b[0m \u001b[0;32mNone\u001b[0m\u001b[0;34m\u001b[0m\u001b[0;34m\u001b[0m\u001b[0m\n",
      "\u001b[0;32m~/opt/anaconda3/envs/ds-general/lib/python3.9/site-packages/ipykernel/kernelbase.py\u001b[0m in \u001b[0;36mraw_input\u001b[0;34m(self, prompt)\u001b[0m\n\u001b[1;32m   1175\u001b[0m                 \u001b[0;34m\"raw_input was called, but this frontend does not support input requests.\"\u001b[0m\u001b[0;34m\u001b[0m\u001b[0;34m\u001b[0m\u001b[0m\n\u001b[1;32m   1176\u001b[0m             )\n\u001b[0;32m-> 1177\u001b[0;31m         return self._input_request(\n\u001b[0m\u001b[1;32m   1178\u001b[0m             \u001b[0mstr\u001b[0m\u001b[0;34m(\u001b[0m\u001b[0mprompt\u001b[0m\u001b[0;34m)\u001b[0m\u001b[0;34m,\u001b[0m\u001b[0;34m\u001b[0m\u001b[0;34m\u001b[0m\u001b[0m\n\u001b[1;32m   1179\u001b[0m             \u001b[0mself\u001b[0m\u001b[0;34m.\u001b[0m\u001b[0m_parent_ident\u001b[0m\u001b[0;34m[\u001b[0m\u001b[0;34m\"shell\"\u001b[0m\u001b[0;34m]\u001b[0m\u001b[0;34m,\u001b[0m\u001b[0;34m\u001b[0m\u001b[0;34m\u001b[0m\u001b[0m\n",
      "\u001b[0;32m~/opt/anaconda3/envs/ds-general/lib/python3.9/site-packages/ipykernel/kernelbase.py\u001b[0m in \u001b[0;36m_input_request\u001b[0;34m(self, prompt, ident, parent, password)\u001b[0m\n\u001b[1;32m   1217\u001b[0m             \u001b[0;32mexcept\u001b[0m \u001b[0mKeyboardInterrupt\u001b[0m\u001b[0;34m:\u001b[0m\u001b[0;34m\u001b[0m\u001b[0;34m\u001b[0m\u001b[0m\n\u001b[1;32m   1218\u001b[0m                 \u001b[0;31m# re-raise KeyboardInterrupt, to truncate traceback\u001b[0m\u001b[0;34m\u001b[0m\u001b[0;34m\u001b[0m\u001b[0m\n\u001b[0;32m-> 1219\u001b[0;31m                 \u001b[0;32mraise\u001b[0m \u001b[0mKeyboardInterrupt\u001b[0m\u001b[0;34m(\u001b[0m\u001b[0;34m\"Interrupted by user\"\u001b[0m\u001b[0;34m)\u001b[0m \u001b[0;32mfrom\u001b[0m \u001b[0;32mNone\u001b[0m\u001b[0;34m\u001b[0m\u001b[0;34m\u001b[0m\u001b[0m\n\u001b[0m\u001b[1;32m   1220\u001b[0m             \u001b[0;32mexcept\u001b[0m \u001b[0mException\u001b[0m\u001b[0;34m:\u001b[0m\u001b[0;34m\u001b[0m\u001b[0;34m\u001b[0m\u001b[0m\n\u001b[1;32m   1221\u001b[0m                 \u001b[0mself\u001b[0m\u001b[0;34m.\u001b[0m\u001b[0mlog\u001b[0m\u001b[0;34m.\u001b[0m\u001b[0mwarning\u001b[0m\u001b[0;34m(\u001b[0m\u001b[0;34m\"Invalid Message:\"\u001b[0m\u001b[0;34m,\u001b[0m \u001b[0mexc_info\u001b[0m\u001b[0;34m=\u001b[0m\u001b[0;32mTrue\u001b[0m\u001b[0;34m)\u001b[0m\u001b[0;34m\u001b[0m\u001b[0;34m\u001b[0m\u001b[0m\n",
      "\u001b[0;31mKeyboardInterrupt\u001b[0m: Interrupted by user"
     ]
    }
   ],
   "source": [
    "# This cell allows the user to perform a manual check of the unclear startups\n",
    "# Running this cell will print the target startup's details along with the details of possible startups\n",
    "# The user inputs either the index number of the correct startup or blank string to skip (if there are no correct startups)\n",
    "\n",
    "df = raw.copy()\n",
    "\n",
    "unclear = df[df['results'].apply(lambda x: isinstance(x,list))]\n",
    "\n",
    "counter = 0\n",
    "for r,row in tqdm(unclear.iterrows()):\n",
    "    counter += 1\n",
    "    print(f\"{counter}/{len(unclear)} records\")\n",
    "    print(row['name'])\n",
    "    print(row['summary'])\n",
    "    print()\n",
    "    for n,candidate in enumerate(row['results'][:10]):\n",
    "        print(f\"{n}: \"+candidate[0]+\":\\t\"+candidate[2])\n",
    "    clear_output(wait=True)\n",
    "    correct = input(\"Which one is it?\")\n",
    "    if correct==\"\":\n",
    "        df.at[r,'results'] = None\n",
    "    else:\n",
    "        df.at[r,'results'] = row['results'][int(correct)]"
   ]
  },
  {
   "cell_type": "code",
   "execution_count": 402,
   "metadata": {},
   "outputs": [],
   "source": [
    "def phase2(rowdata):\n",
    "    \"\"\"\n",
    "    \n",
    "    \"\"\"\n",
    "    uuid = rowdata[\"results\"][1]\n",
    "    action = f\"/entities/organizations/{uuid}\"\n",
    "    url = base+action\n",
    "    results = requests.get(url,headers={\"X-cb-user-key\":api_key},params={\"card_ids\":\"fields,founders,jobs\"}).json()[\"cards\"]\n",
    "    \n",
    "    # Check if funding eligible\n",
    "    result_dict = {\"website\":None,\"funding\":None, \"founders\":None}\n",
    "    if \"website_url\" in results[\"fields\"]:\n",
    "        result_dict[\"website\"] = results[\"fields\"][\"website_url\"]\n",
    "    \n",
    "    if \"last_funding_type\" in results[\"fields\"]:\n",
    "        if not bool(re.match(r\"(series_[b-z])|(.*ipo.*)\",results[\"fields\"][\"last_funding_type\"])):\n",
    "            result_dict[\"funding\"] = results[\"fields\"][\"last_funding_type\"]\n",
    "        else:\n",
    "            return None\n",
    "    else:\n",
    "        result_dict[\"funding\"] = \"UNKNOWN\"\n",
    "    \n",
    "    # Get list of employee uuids, to get title and starting_date\n",
    "    employees = {}\n",
    "    for p in results['jobs']:\n",
    "        title = None if 'title' not in p else p['title']\n",
    "        started = None if 'started_on' not in p else p['started_on']['value'][:4]\n",
    "        employees[p[\"person_identifier\"][\"uuid\"]] = (title,started)\n",
    "    \n",
    "    # Get details of founders\n",
    "    if \"founders\" in results and results[\"founders\"]:\n",
    "        founders = []\n",
    "        for p in results[\"founders\"]:\n",
    "            founder_name = p[\"identifier\"][\"value\"]\n",
    "            founder_uuid = p[\"identifier\"][\"uuid\"]\n",
    "            linkedin = None if \"linkedin\" not in p else p[\"linkedin\"][\"value\"]\n",
    "            title,started = None,None\n",
    "            if founder_uuid in employees:\n",
    "                title,started = employees[founder_uuid]\n",
    "            founders.append((founder_name,founder_uuid,linkedin,title,started))\n",
    "    \n",
    "    # if \"jobs\" in results and results[\"jobs\"]:\n",
    "    #     founders = []\n",
    "    #     for p in results[\"jobs\"]:\n",
    "    #         if 'founder' in p['title'].lower() and p['is_current']:\n",
    "    #             name = p[\"person_identifier\"][\"value\"]\n",
    "    #             person_uuid = p[\"person_identifier\"][\"uuid\"]\n",
    "    #             title = None if \"title\" not in p else p[\"title\"]\n",
    "    #             founders.append((p['person_identifier']['value'],p['person_identifier']['uuid'],\n",
    "    #                             p['title'],p['started_on']['value']))\n",
    "        result_dict[\"founders\"] = founders\n",
    "    return result_dict\n",
    "    "
   ]
  },
  {
   "cell_type": "code",
   "execution_count": 403,
   "metadata": {},
   "outputs": [
    {
     "name": "stderr",
     "output_type": "stream",
     "text": [
      "100%|██████████| 370/370 [06:29<00:00,  1.05s/it]\n",
      "/var/folders/p_/scs49c6d5bz5kvl2jkkbnqzw0000gn/T/ipykernel_30395/759843292.py:2: SettingWithCopyWarning: \n",
      "A value is trying to be set on a copy of a slice from a DataFrame.\n",
      "Try using .loc[row_indexer,col_indexer] = value instead\n",
      "\n",
      "See the caveats in the documentation: https://pandas.pydata.org/pandas-docs/stable/user_guide/indexing.html#returning-a-view-versus-a-copy\n",
      "  found['results2'] = found.progress_apply(phase2,axis=1)\n"
     ]
    }
   ],
   "source": [
    "found = df.dropna(subset=[\"results\"])\n",
    "found['results2'] = found.progress_apply(phase2,axis=1)"
   ]
  },
  {
   "cell_type": "code",
   "execution_count": 407,
   "metadata": {},
   "outputs": [
    {
     "name": "stderr",
     "output_type": "stream",
     "text": [
      "/var/folders/p_/scs49c6d5bz5kvl2jkkbnqzw0000gn/T/ipykernel_30395/3142160271.py:1: SettingWithCopyWarning: \n",
      "A value is trying to be set on a copy of a slice from a DataFrame.\n",
      "Try using .loc[row_indexer,col_indexer] = value instead\n",
      "\n",
      "See the caveats in the documentation: https://pandas.pydata.org/pandas-docs/stable/user_guide/indexing.html#returning-a-view-versus-a-copy\n",
      "  found['website'] = found['results2'].apply(lambda x: x['website'] if x else x)\n",
      "/var/folders/p_/scs49c6d5bz5kvl2jkkbnqzw0000gn/T/ipykernel_30395/3142160271.py:2: SettingWithCopyWarning: \n",
      "A value is trying to be set on a copy of a slice from a DataFrame.\n",
      "Try using .loc[row_indexer,col_indexer] = value instead\n",
      "\n",
      "See the caveats in the documentation: https://pandas.pydata.org/pandas-docs/stable/user_guide/indexing.html#returning-a-view-versus-a-copy\n",
      "  found['funding'] = found['results2'].apply(lambda x: x['funding'] if x else x)\n",
      "/var/folders/p_/scs49c6d5bz5kvl2jkkbnqzw0000gn/T/ipykernel_30395/3142160271.py:3: SettingWithCopyWarning: \n",
      "A value is trying to be set on a copy of a slice from a DataFrame.\n",
      "Try using .loc[row_indexer,col_indexer] = value instead\n",
      "\n",
      "See the caveats in the documentation: https://pandas.pydata.org/pandas-docs/stable/user_guide/indexing.html#returning-a-view-versus-a-copy\n",
      "  found['founders'] = found['results2'].apply(lambda x: x['founders'] if x else x)\n"
     ]
    }
   ],
   "source": [
    "found['website'] = found['results2'].apply(lambda x: x['website'] if x else x)\n",
    "found['funding'] = found['results2'].apply(lambda x: x['funding'] if x else x)\n",
    "found['founders'] = found['results2'].apply(lambda x: x['founders'] if x else x)\n",
    "found[\"founders\"] = found[\"founders\"].apply(lambda x: \"\\r\".join([\", \".join([e for e in p if e]) for p in x]) if x else x)\n",
    "found = found.drop('results2',axis=1)"
   ]
  },
  {
   "cell_type": "code",
   "execution_count": 423,
   "metadata": {},
   "outputs": [],
   "source": [
    "found.to_excel(\"esd_found.xlsx\",index=False)\n",
    "df[df['results'].isnull()].to_excel(\"esd_not_found.xlsx\",index=False)"
   ]
  },
  {
   "cell_type": "code",
   "execution_count": 367,
   "metadata": {},
   "outputs": [],
   "source": [
    "# Test cell\n",
    "uuid = \"f57b9762-20eb-4098-947f-dfa8c4a0db82\"\n",
    "action = f\"/entities/organizations/{uuid}\"\n",
    "url = base+action\n",
    "result = requests.get(url,headers={\"X-cb-user-key\":api_key},params={\"card_ids\":\"fields,jobs,founders\"}).json()"
   ]
  }
 ],
 "metadata": {
  "kernelspec": {
   "display_name": "ds-general",
   "language": "python",
   "name": "python3"
  },
  "language_info": {
   "codemirror_mode": {
    "name": "ipython",
    "version": 3
   },
   "file_extension": ".py",
   "mimetype": "text/x-python",
   "name": "python",
   "nbconvert_exporter": "python",
   "pygments_lexer": "ipython3",
   "version": "3.9.15"
  },
  "orig_nbformat": 4,
  "vscode": {
   "interpreter": {
    "hash": "ed6c43b43e1755b84ae54106533c57d1ef7c781210f6a7e9779ae5b0e4e13b1b"
   }
  }
 },
 "nbformat": 4,
 "nbformat_minor": 2
}
