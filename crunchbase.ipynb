{
 "cells": [
  {
   "cell_type": "code",
   "execution_count": null,
   "metadata": {},
   "outputs": [],
   "source": [
    "import requests\n",
    "import pandas as pd\n",
    "import re\n",
    "from fuzzywuzzy import fuzz\n",
    "import string\n",
    "from tqdm import tqdm\n",
    "from IPython.display import clear_output\n",
    "\n",
    "from decouple import config\n",
    "\n",
    "tqdm.pandas()"
   ]
  },
  {
   "attachments": {},
   "cell_type": "markdown",
   "metadata": {},
   "source": [
    "Phase 1\n",
    "1. Pass extracted list of names into autocomplete function\n",
    "2. From API return Crunchbase name, country, link, permalink, UUID\n",
    "3. Fuzzy match\n",
    "    a. Do ratio match. If >90, directly return, else go to b\n",
    "    b. Do token_set_ratio\n",
    "    b. If len(word)>1, remove last word and token_set_ratio again. Return if >90\n",
    "4. Manual review\n",
    "\n",
    "Phase 2\n",
    "- Using matched companies, pass UUID/permalink into entity lookup function\n",
    "- Return highest funding round, founders identifiers"
   ]
  },
  {
   "cell_type": "code",
   "execution_count": null,
   "metadata": {},
   "outputs": [],
   "source": [
    "# Environment Variables\n",
    "CB_API_KEY = config(\"CB_API_KEY\")\n",
    "BASE = \"https://api.crunchbase.com/api/v4\""
   ]
  },
  {
   "cell_type": "code",
   "execution_count": null,
   "metadata": {},
   "outputs": [],
   "source": [
    "# Crunchbase API test cell\n",
    "uuid = \"f57b9762-20eb-4098-947f-dfa8c4a0db82\"\n",
    "action = f\"/entities/organizations/{uuid}\"\n",
    "url = BASE+action\n",
    "result = requests.get(url,headers={\"X-cb-user-key\":CB_API_KEY},params={\"card_ids\":\"fields,jobs,founders\"}).json()"
   ]
  },
  {
   "cell_type": "code",
   "execution_count": null,
   "metadata": {},
   "outputs": [],
   "source": [
    "# Change the below filepath\n",
    "filepath = \"test\""
   ]
  },
  {
   "cell_type": "code",
   "execution_count": null,
   "metadata": {},
   "outputs": [],
   "source": [
    "data = pd.read_csv(f\"{filepath}.csv\")"
   ]
  },
  {
   "cell_type": "code",
   "execution_count": null,
   "metadata": {},
   "outputs": [],
   "source": [
    "# Get a mapping of Alpha-2 country code to country name since Crunchbase uses Alpha-2 code\n",
    "# e.g. {\"DE\": \"Germany\", \"SG\": \"Singapore\"}\n",
    "\n",
    "country_map = pd.read_html(\"https://www.iban.com/country-codes\")[0]\n",
    "country_map = country_map.iloc[:,:2]\n",
    "country_map.columns = ['country','code']\n",
    "country_map = country_map.set_index(\"code\").to_dict()['country']"
   ]
  },
  {
   "cell_type": "code",
   "execution_count": null,
   "metadata": {},
   "outputs": [],
   "source": [
    "def phase1(rowdata):\n",
    "    \"\"\"\n",
    "    This function performs a fuzzy match between the top results using the Crunchbase autocomplete function and the target startup name\n",
    "    (i.e. how similar the names are)\n",
    "    \n",
    "    If there is a match, return a tuple in the format (startup_name, startup_uuid, startup_description)\n",
    "    \n",
    "    If there are no similar matches, return a list of top results found in the same country as the target startup in the format\n",
    "    [(startup_1_name, startup_1_uuid, startup_1_description), (startup_2_name,...)]\n",
    "    \"\"\"\n",
    "    name = rowdata[\"name\"]\n",
    "    action = \"/autocompletes\"\n",
    "    url = BASE+action\n",
    "    results = requests.get(url,headers={\"X-cb-user-key\":CB_API_KEY},params={\"collection_ids\":\"organizations\",\"query\":f\"{name}\",\"limit\":10}).json()\n",
    "    candidates = [(e['identifier']['value'],e['identifier']['uuid'],e['short_description'])for e in results['entities']]\n",
    "    for candidate in candidates:\n",
    "        if fuzz.token_set_ratio(candidate[0],name)>90:\n",
    "            return candidate\n",
    "        else:\n",
    "            # Remove punctuation\n",
    "            name = name.translate(str.maketrans(\" \",\" \",string.punctuation))\n",
    "            splitname = name.split()\n",
    "            if len(splitname)>1:\n",
    "                splitname = \" \".join(splitname[:-1])\n",
    "                if fuzz.token_set_ratio(candidate[0],splitname)>95:\n",
    "                    return candidate\n",
    "    \n",
    "    candidates_2 = []\n",
    "    \n",
    "    for candidate in candidates:\n",
    "        uuid = candidate[1]\n",
    "        action = f\"/entities/organizations/{uuid}\"\n",
    "        url = BASE+action\n",
    "        results = requests.get(url,headers={\"X-cb-user-key\":CB_API_KEY},params={\"card_ids\":[\"headquarters_address\"]}).json()['cards']['headquarters_address']\n",
    "        if len(results):\n",
    "            country = results[0]['country_code']\n",
    "            if country_map[country]==rowdata[\"country\"]:\n",
    "                candidates_2.append(candidate)\n",
    "        else:\n",
    "            candidates_2.append(candidate)\n",
    "    if len(candidates_2):\n",
    "        return candidates_2\n",
    "\n",
    "data['basic_info'] = data.progress_apply(phase1,axis=1)"
   ]
  },
  {
   "cell_type": "code",
   "execution_count": null,
   "metadata": {},
   "outputs": [],
   "source": [
    "data['basic_info'].apply(type).value_counts()"
   ]
  },
  {
   "attachments": {},
   "cell_type": "markdown",
   "metadata": {},
   "source": [
    "### Manual Check\n",
    "\n",
    "User input is required for the next cell"
   ]
  },
  {
   "cell_type": "code",
   "execution_count": null,
   "metadata": {},
   "outputs": [],
   "source": [
    "# This cell allows the user to perform a manual check of the unclear startups\n",
    "# Running this cell will print the target startup's details along with the details of possible startups\n",
    "# The user inputs either the index number of the correct startup or blank string to skip (if there are no correct startups)\n",
    "\n",
    "df = data.copy()\n",
    "\n",
    "unclear = df[df['basic_info'].apply(lambda x: isinstance(x,list))]\n",
    "\n",
    "counter = 0\n",
    "for r,row in tqdm(unclear.iterrows()):\n",
    "    counter += 1\n",
    "    print(f\"{counter}/{len(unclear)} records\")\n",
    "    print(row['name'])\n",
    "    print(row['summary'])\n",
    "    print()\n",
    "    for n,candidate in enumerate(row['basic_info'][:10]):\n",
    "        print(f\"{n}: \"+candidate[0]+\":\\t\"+candidate[2])\n",
    "    clear_output(wait=True)\n",
    "    correct = input(\"Which one is it?\")\n",
    "    if correct==\"\":\n",
    "        df.at[r,'basic_info'] = None\n",
    "    else:\n",
    "        df.at[r,'basic_info'] = row['basic_info'][int(correct)]"
   ]
  },
  {
   "cell_type": "code",
   "execution_count": null,
   "metadata": {},
   "outputs": [],
   "source": [
    "def phase2(rowdata):\n",
    "    \"\"\"\n",
    "    \n",
    "    \"\"\"\n",
    "    uuid = rowdata[\"basic_info\"][1]\n",
    "    action = f\"/entities/organizations/{uuid}\"\n",
    "    url = BASE+action\n",
    "    results = requests.get(url,headers={\"X-cb-user-key\":CB_API_KEY},params={\"card_ids\":\"fields,founders,jobs\"}).json()[\"cards\"]\n",
    "    \n",
    "    # Check if funding eligible\n",
    "    result_dict = {\"website\":None,\"funding\":None, \"founders\":None}\n",
    "    if \"website_url\" in results[\"fields\"]:\n",
    "        result_dict[\"website\"] = results[\"fields\"][\"website_url\"]\n",
    "    \n",
    "    if \"last_funding_type\" in results[\"fields\"]:\n",
    "        if not bool(re.match(r\"(series_[b-z])|(.*ipo.*)\",results[\"fields\"][\"last_funding_type\"])):\n",
    "            result_dict[\"funding\"] = results[\"fields\"][\"last_funding_type\"]\n",
    "        else:\n",
    "            return None\n",
    "    else:\n",
    "        result_dict[\"funding\"] = \"UNKNOWN\"\n",
    "    \n",
    "    # Get list of employee uuids, to get title and starting_date\n",
    "    employees = {}\n",
    "    for p in results['jobs']:\n",
    "        title = None if 'title' not in p else p['title']\n",
    "        started = None if 'started_on' not in p else p['started_on']['value'][:4]\n",
    "        employees[p[\"person_identifier\"][\"uuid\"]] = (title,started)\n",
    "    \n",
    "    # Get details of founders\n",
    "    if \"founders\" in results and results[\"founders\"]:\n",
    "        founders = []\n",
    "        for p in results[\"founders\"]:\n",
    "            founder_name = p[\"identifier\"][\"value\"]\n",
    "            founder_uuid = p[\"identifier\"][\"uuid\"]\n",
    "            linkedin = None if \"linkedin\" not in p else p[\"linkedin\"][\"value\"]\n",
    "            title,started = None,None\n",
    "            if founder_uuid in employees:\n",
    "                title,started = employees[founder_uuid]\n",
    "            founders.append((founder_name,founder_uuid,linkedin,title,started))\n",
    "    \n",
    "        result_dict[\"founders\"] = founders\n",
    "    return result_dict"
   ]
  },
  {
   "cell_type": "code",
   "execution_count": null,
   "metadata": {},
   "outputs": [],
   "source": [
    "found = df.dropna(subset=[\"basic_info\"])\n",
    "found['extra_info'] = found.progress_apply(phase2,axis=1)"
   ]
  },
  {
   "cell_type": "code",
   "execution_count": null,
   "metadata": {},
   "outputs": [],
   "source": [
    "found['website'] = found['extra_info'].apply(lambda x: x['website'] if x else x)\n",
    "found['funding'] = found['extra_info'].apply(lambda x: x['funding'] if x else x)\n",
    "found['founders'] = found['extra_info'].apply(lambda x: x['founders'] if x else x)\n",
    "found = found.drop('extra_info',axis=1)"
   ]
  },
  {
   "cell_type": "code",
   "execution_count": null,
   "metadata": {},
   "outputs": [],
   "source": [
    "# Run this cell if you want to easily load the data into the Linkedin scraper\n",
    "\n",
    "found.to_pickle(f\"{filepath}_found.pkl\")\n",
    "df[df['basic_info'].isnull()].to_pickle(f\"{filepath}_missing.pkl\")"
   ]
  },
  {
   "cell_type": "code",
   "execution_count": null,
   "metadata": {},
   "outputs": [],
   "source": [
    "# Run this cell if you want to view the output in Excel\n",
    "found_formatted = found.copy()\n",
    "found_formatted[\"founders\"] = found_formatted[\"founders\"].apply(lambda x: \"\\r\".join([\", \".join([e for e in p if e]) for p in x]) if x else x)\n",
    "\n",
    "found.to_excel(f\"{filepath}_found.xlsx\",index=False)\n",
    "df[df['resubasic_infolts'].isnull()].to_excel(f\"{filepath}_missing.xlsx\",index=False)"
   ]
  }
 ],
 "metadata": {
  "kernelspec": {
   "display_name": "ds-general",
   "language": "python",
   "name": "python3"
  },
  "language_info": {
   "codemirror_mode": {
    "name": "ipython",
    "version": 3
   },
   "file_extension": ".py",
   "mimetype": "text/x-python",
   "name": "python",
   "nbconvert_exporter": "python",
   "pygments_lexer": "ipython3",
   "version": "3.9.15 (main, Nov  4 2022, 11:11:31) \n[Clang 12.0.0 ]"
  },
  "orig_nbformat": 4,
  "vscode": {
   "interpreter": {
    "hash": "ed6c43b43e1755b84ae54106533c57d1ef7c781210f6a7e9779ae5b0e4e13b1b"
   }
  }
 },
 "nbformat": 4,
 "nbformat_minor": 2
}
